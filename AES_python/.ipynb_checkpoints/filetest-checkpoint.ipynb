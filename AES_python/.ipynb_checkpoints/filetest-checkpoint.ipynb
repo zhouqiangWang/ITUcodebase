{
 "cells": [
  {
   "cell_type": "code",
   "execution_count": 16,
   "metadata": {},
   "outputs": [
    {
     "name": "stdout",
     "output_type": "stream",
     "text": [
      "270\n",
      "24\n"
     ]
    }
   ],
   "source": [
    "def linecount_1():\n",
    "    return len(open('AES.py').readlines())\n",
    "\n",
    "def countStr(str):\n",
    "    thefile = open('AES.py')\n",
    "    count = 0;\n",
    "    buffer = thefile.read()\n",
    "    count += buffer.count(str)\n",
    "\n",
    "    return count\n",
    "\n",
    "\n",
    "print(linecount_1())\n",
    "\n",
    "print(countStr(\"getWord\"))\n"
   ]
  },
  {
   "cell_type": "code",
   "execution_count": null,
   "metadata": {
    "collapsed": true
   },
   "outputs": [],
   "source": []
  }
 ],
 "metadata": {
  "kernelspec": {
   "display_name": "Python 3",
   "language": "python",
   "name": "python3"
  },
  "language_info": {
   "codemirror_mode": {
    "name": "ipython",
    "version": 3
   },
   "file_extension": ".py",
   "mimetype": "text/x-python",
   "name": "python",
   "nbconvert_exporter": "python",
   "pygments_lexer": "ipython3",
   "version": "3.6.1"
  }
 },
 "nbformat": 4,
 "nbformat_minor": 2
}
